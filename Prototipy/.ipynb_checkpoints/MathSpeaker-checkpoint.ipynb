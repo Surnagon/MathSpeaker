{
 "cells": [
  {
   "cell_type": "code",
   "execution_count": 13,
   "metadata": {},
   "outputs": [],
   "source": [
    "from pydub import AudioSegment\n",
    "import os\n",
    "import numpy\n"
   ]
  },
  {
   "cell_type": "code",
   "execution_count": 4,
   "metadata": {},
   "outputs": [],
   "source": [
    "# def convert_to_wav(path_in, name_arquivo):\n",
    "#         \"\"\"\n",
    "#             Converte o arquivo de audio para a extenção WAV e remove o arquivo anterior.\n",
    "#         \"\"\"\n",
    "#         sound = AudioSegment.from_mp3(path_in + name_arquivo)\n",
    "#         new_arquivo = path_in + name_arquivo.split(\".\")[0] + \".wav\"\n",
    "#         sound.export(new_arquivo, format=\"wav\")\n",
    "#         os.remove(path_in + name_arquivo)\n",
    "#         return new_arquivo"
   ]
  },
  {
   "cell_type": "code",
   "execution_count": 14,
   "metadata": {},
   "outputs": [],
   "source": [
    "def convert_to_wav(path):\n",
    "        \"\"\"\n",
    "            Converte o arquivo de audio para a extenção WAV e remove o arquivo anterior.\n",
    "        \"\"\"\n",
    "        sound = AudioSegment.from_mp3(path)\n",
    "        new_arquivo = path.split(\".\")[0] + \".wav\"\n",
    "        sound.export(new_arquivo, format=\"wav\")\n",
    "        os.remove(path)\n",
    "        return new_arquivo"
   ]
  },
  {
   "cell_type": "code",
   "execution_count": 18,
   "metadata": {},
   "outputs": [
    {
     "ename": "SyntaxError",
     "evalue": "Missing parentheses in call to 'print'. Did you mean print(audio)? (<ipython-input-18-0cde2087e3b3>, line 2)",
     "output_type": "error",
     "traceback": [
      "\u001b[0;36m  File \u001b[0;32m\"<ipython-input-18-0cde2087e3b3>\"\u001b[0;36m, line \u001b[0;32m2\u001b[0m\n\u001b[0;31m    print audio\u001b[0m\n\u001b[0m              ^\u001b[0m\n\u001b[0;31mSyntaxError\u001b[0m\u001b[0;31m:\u001b[0m Missing parentheses in call to 'print'. Did you mean print(audio)?\n"
     ]
    }
   ],
   "source": [
    "for audio in os.listdir(\"/home/surnagon/Projs/MathSpeaker/Dataset/0/*.ogg\"):\n",
    "    print(audio)\n",
    "    wave = convert_to_wav(audio)"
   ]
  },
  {
   "cell_type": "code",
   "execution_count": null,
   "metadata": {},
   "outputs": [],
   "source": []
  }
 ],
 "metadata": {
  "kernelspec": {
   "display_name": "Python 3",
   "language": "python",
   "name": "python3"
  },
  "language_info": {
   "codemirror_mode": {
    "name": "ipython",
    "version": 3
   },
   "file_extension": ".py",
   "mimetype": "text/x-python",
   "name": "python",
   "nbconvert_exporter": "python",
   "pygments_lexer": "ipython3",
   "version": "3.7.3"
  }
 },
 "nbformat": 4,
 "nbformat_minor": 2
}
