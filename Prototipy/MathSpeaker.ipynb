{
 "cells": [
  {
   "cell_type": "code",
   "execution_count": 7,
   "metadata": {},
   "outputs": [],
   "source": [
    "from pydub import AudioSegment\n",
    "\n",
    "import numpy\n"
   ]
  },
  {
   "cell_type": "code",
   "execution_count": null,
   "metadata": {},
   "outputs": [],
   "source": [
    "def convert_to_wav(path_in, name_arquivo):\n",
    "        \"\"\"\n",
    "            Converte o arquivo de audio para a extenção WAV e remove o arquivo anterior.\n",
    "        \"\"\"\n",
    "        sound = AudioSegment.from_mp3(path)\n",
    "        new_arquivo = path.split(\".\")[0] + \".wav\"\n",
    "        sound.export(new_arquivo, format=\"wav\")\n",
    "        os.remove(path_in + name_arquivo)\n",
    "        return new_arquivo"
   ]
  },
  {
   "cell_type": "code",
   "execution_count": null,
   "metadata": {},
   "outputs": [],
   "source": [
    "def convert_to_wav(path):\n",
    "        \"\"\"\n",
    "            Converte o arquivo de audio para a extenção WAV e remove o arquivo anterior.\n",
    "        \"\"\"\n",
    "        sound = AudioSegment.from_mp3(path_in + name_arquivo)\n",
    "        new_arquivo = path_in + name_arquivo.split(\".\")[0] + \".wav\"\n",
    "        sound.export(new_arquivo, format=\"wav\")\n",
    "        os.remove(path_in + name_arquivo)\n",
    "        return new_arquivo"
   ]
  },
  {
   "cell_type": "code",
   "execution_count": 4,
   "metadata": {},
   "outputs": [],
   "source": [
    "def receiver(owwwl):\n",
    "    \n",
    "    return text"
   ]
  },
  {
   "cell_type": "code",
   "execution_count": 5,
   "metadata": {},
   "outputs": [],
   "source": [
    "def translate_to_math(text):\n",
    "    \n",
    "    return number"
   ]
  },
  {
   "cell_type": "code",
   "execution_count": 6,
   "metadata": {},
   "outputs": [],
   "source": [
    "def conferente(correct, number):\n",
    "    \n",
    "    return result"
   ]
  },
  {
   "cell_type": "code",
   "execution_count": 1,
   "metadata": {},
   "outputs": [],
   "source": [
    "def speaker(owwwl):\n",
    "    \n",
    "    return signal"
   ]
  },
  {
   "cell_type": "code",
   "execution_count": null,
   "metadata": {},
   "outputs": [],
   "source": [
    "while(1):\n",
    "    "
   ]
  }
 ],
 "metadata": {
  "kernelspec": {
   "display_name": "Python 3",
   "language": "python",
   "name": "python3"
  },
  "language_info": {
   "codemirror_mode": {
    "name": "ipython",
    "version": 3
   },
   "file_extension": ".py",
   "mimetype": "text/x-python",
   "name": "python",
   "nbconvert_exporter": "python",
   "pygments_lexer": "ipython3",
   "version": "3.7.3"
  }
 },
 "nbformat": 4,
 "nbformat_minor": 2
}
